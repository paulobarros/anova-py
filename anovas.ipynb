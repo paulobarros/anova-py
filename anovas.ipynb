{
 "metadata": {
  "language_info": {
   "codemirror_mode": {
    "name": "ipython",
    "version": 3
   },
   "file_extension": ".py",
   "mimetype": "text/x-python",
   "name": "python",
   "nbconvert_exporter": "python",
   "pygments_lexer": "ipython3",
   "version": 3
  },
  "orig_nbformat": 2,
  "kernelspec": {
   "name": "python_defaultSpec_1597352097333",
   "display_name": "Python 3.8.2 64-bit ('pyds': venv)"
  }
 },
 "nbformat": 4,
 "nbformat_minor": 2,
 "cells": [
  {
   "cell_type": "markdown",
   "metadata": {},
   "source": [
    "## Performing ANOVA tests with Python"
   ]
  },
  {
   "cell_type": "code",
   "execution_count": 39,
   "metadata": {},
   "outputs": [],
   "source": [
    "import numpy as np\n",
    "from numpy.linalg import inv\n",
    "import pandas as pd\n",
    "from scipy.stats import f\n"
   ]
  },
  {
   "cell_type": "code",
   "execution_count": 46,
   "metadata": {
    "tags": []
   },
   "outputs": [
    {
     "output_type": "stream",
     "name": "stdout",
     "text": "[[11.55786048]]\n[[0.00025842]]\n"
    }
   ],
   "source": [
    "X = np.array([[1,1,0,0,0],\n",
    "              [1,1,0,0,0],\n",
    "              [1,1,0,0,0],\n",
    "              [1,1,0,0,0],\n",
    "              [1,1,0,0,0],  \n",
    "              [1,0,1,0,0],  \n",
    "              [1,0,1,0,0],  \n",
    "              [1,0,1,0,0],  \n",
    "              [1,0,1,0,0],  \n",
    "              [1,0,1,0,0],\n",
    "              [1,0,0,1,0],  \n",
    "              [1,0,0,1,0],  \n",
    "              [1,0,0,1,0],  \n",
    "              [1,0,0,1,0],  \n",
    "              [1,0,0,1,0],\n",
    "              [1,0,0,0,1],\n",
    "              [1,0,0,0,1],\n",
    "              [1,0,0,0,1],\n",
    "              [1,0,0,0,1],\n",
    "              [1,0,0,0,1],])\n",
    "\n",
    "Xl = X.transpose()\n",
    "\n",
    "XlX = Xl.dot(X)\n",
    "\n",
    "A = np.array([[0,5,5,5,5],\n",
    "              [0,0,0,0,0],\n",
    "              [0,0,0,0,0],\n",
    "              [0,0,0,0,0],\n",
    "              [0,0,0,0,0]])\n",
    "\n",
    "Y = np.array([[24.1],\n",
    "              [23.5],\n",
    "              [20.7],\n",
    "              [23.5],\n",
    "              [22.7],\n",
    "              [15.5],\n",
    "              [19.1],\n",
    "              [16.6],\n",
    "              [19.1],\n",
    "              [18.2],\n",
    "              [19.3],\n",
    "              [19.2],\n",
    "              [17.7],\n",
    "              [21.7],\n",
    "              [18.6],\n",
    "              [18.7],\n",
    "              [21.2],\n",
    "              [18.7],\n",
    "              [21.2],\n",
    "              [19.2],\n",
    "                ])\n",
    "\n",
    "XlY = Xl.dot(Y)\n",
    "\n",
    "Minv = inv(M)\n",
    "\n",
    "M =  XlX - A\n",
    "\n",
    "Bhat = Minv.dot(XlY)\n",
    "\n",
    "SQPar = Bhat.transpose().dot(XlY)\n",
    "\n",
    "SQTrat = Bhat.transpose().dot(XlY) - C\n",
    "\n",
    "YlY = Y.transpose().dot(Y)\n",
    "\n",
    "SQRes = YlY - Bhat.transpose().dot(XlY)\n",
    "\n",
    "SQTotal = YlY - C\n",
    "\n",
    "\n",
    "C = np.sum(Y)**2/np.size(Y)\n",
    "\n",
    "F = (SQTrat/3)/(SQRes/16)\n",
    "print(F)\n",
    "pval = f.pdf(F,3,16)*2\n",
    "print(pval)"
   ]
  },
  {
   "cell_type": "markdown",
   "metadata": {
    "tags": []
   },
   "source": [
    "#### Quadro ANOVA (DIC)"
   ]
  },
  {
   "cell_type": "code",
   "execution_count": 92,
   "metadata": {
    "tags": []
   },
   "outputs": [
    {
     "output_type": "execute_result",
     "data": {
      "text/plain": "            FV  GL      SQ     QM      F  P-value\n0  Tratamentos   3   71.04  23.68  11.56  0.00026\n1      Residuo  16   32.78   2.05                \n2        Total  19  103.82                       ",
      "text/html": "<div>\n<style scoped>\n    .dataframe tbody tr th:only-of-type {\n        vertical-align: middle;\n    }\n\n    .dataframe tbody tr th {\n        vertical-align: top;\n    }\n\n    .dataframe thead th {\n        text-align: right;\n    }\n</style>\n<table border=\"1\" class=\"dataframe\">\n  <thead>\n    <tr style=\"text-align: right;\">\n      <th></th>\n      <th>FV</th>\n      <th>GL</th>\n      <th>SQ</th>\n      <th>QM</th>\n      <th>F</th>\n      <th>P-value</th>\n    </tr>\n  </thead>\n  <tbody>\n    <tr>\n      <th>0</th>\n      <td>Tratamentos</td>\n      <td>3</td>\n      <td>71.04</td>\n      <td>23.68</td>\n      <td>11.56</td>\n      <td>0.00026</td>\n    </tr>\n    <tr>\n      <th>1</th>\n      <td>Residuo</td>\n      <td>16</td>\n      <td>32.78</td>\n      <td>2.05</td>\n      <td></td>\n      <td></td>\n    </tr>\n    <tr>\n      <th>2</th>\n      <td>Total</td>\n      <td>19</td>\n      <td>103.82</td>\n      <td></td>\n      <td></td>\n      <td></td>\n    </tr>\n  </tbody>\n</table>\n</div>"
     },
     "metadata": {},
     "execution_count": 92
    }
   ],
   "source": [
    "anova = pd.DataFrame({\"FV\": [\"Tratamentos\",\"Residuo\",\"Total\"],\n",
    "                     \"GL\": [3,16,19],\n",
    "                     \"SQ\": [round(np.float64(SQTrat),2),round(np.float64(SQRes),2),round(np.float64(SQTotal),2)],\n",
    "                     \"QM\": [round(float((SQTrat/3)),2),round(float((SQRes/16)),2),\" \"],\n",
    "                     \"F\" : [round(float((SQTrat/3)/(SQRes/16)),2),\" \",\" \"],\n",
    "                     \"P-value\": [np.float64(np.round(f.pdf(F,3,16)*2, 5)), \" \", \" \"]})\n",
    "\n",
    "anova"
   ]
  }
 ]
}